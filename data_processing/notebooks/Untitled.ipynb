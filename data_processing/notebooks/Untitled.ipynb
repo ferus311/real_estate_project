{
 "cells": [
  {
   "cell_type": "code",
   "execution_count": 4,
   "id": "100ae423-084c-4d82-8802-c9f9fd7a77b0",
   "metadata": {},
   "outputs": [
    {
     "name": "stderr",
     "output_type": "stream",
     "text": [
      "                                                                                \r"
     ]
    },
    {
     "name": "stdout",
     "output_type": "stream",
     "text": [
      "root\n",
      " |-- id: string (nullable = true)\n",
      " |-- title: string (nullable = true)\n",
      " |-- url: string (nullable = true)\n",
      " |-- data_type: string (nullable = true)\n",
      " |-- property_type: string (nullable = true)\n",
      " |-- description: string (nullable = true)\n",
      " |-- price: double (nullable = true)\n",
      " |-- price_per_m2: double (nullable = true)\n",
      " |-- area: double (nullable = true)\n",
      " |-- living_size: double (nullable = true)\n",
      " |-- bedroom: double (nullable = true)\n",
      " |-- bathroom: double (nullable = true)\n",
      " |-- floor_count: double (nullable = true)\n",
      " |-- house_direction: string (nullable = true)\n",
      " |-- interior: string (nullable = true)\n",
      " |-- legal_status: string (nullable = true)\n",
      " |-- facade_width: double (nullable = true)\n",
      " |-- road_width: double (nullable = true)\n",
      " |-- length: double (nullable = true)\n",
      " |-- width: double (nullable = true)\n",
      " |-- location: string (nullable = true)\n",
      " |-- province: string (nullable = true)\n",
      " |-- district: string (nullable = true)\n",
      " |-- ward: string (nullable = true)\n",
      " |-- latitude: double (nullable = true)\n",
      " |-- longitude: double (nullable = true)\n",
      " |-- seller_info: string (nullable = true)\n",
      " |-- seller_type: string (nullable = true)\n",
      " |-- seller_name: string (nullable = true)\n",
      " |-- seller_phone: string (nullable = true)\n",
      " |-- source: string (nullable = true)\n",
      " |-- posted_date: timestamp (nullable = true)\n",
      " |-- crawl_timestamp: timestamp (nullable = true)\n",
      " |-- processing_date: timestamp (nullable = true)\n",
      " |-- processing_id: string (nullable = true)\n",
      "\n"
     ]
    },
    {
     "name": "stderr",
     "output_type": "stream",
     "text": [
      "                                                                                \r"
     ]
    }
   ],
   "source": [
    "from pyspark.sql import SparkSession\n",
    "\n",
    "spark = SparkSession.builder \\\n",
    "    .appName(\"ParquetToCSV\") \\\n",
    "    .master(\"spark://spark-master:7077\") \\\n",
    "    .config(\"spark.hadoop.fs.defaultFS\", \"hdfs://namenode:9000\") \\\n",
    "    .getOrCreate()\n",
    "\n",
    "# Đường dẫn file Parquet cụ thể\n",
    "parquet_file = \"hdfs://namenode:9000/data/realestate/processed/analytics/all/2025-05-22/2025/05/23/unified_house_20250522.parquet\"\n",
    "\n",
    "df = spark.read.parquet(parquet_file)\n",
    "\n",
    "df.printSchema()\n",
    "\n",
    "# Ghi ra CSV\n",
    "csv_output_path = \"hdfs://namenode:9000/tmp/data\"\n",
    "df.coalesce(1) \\\n",
    "  .write \\\n",
    "  .option(\"header\", \"true\") \\\n",
    "  .mode(\"overwrite\") \\\n",
    "  .csv(csv_output_path)\n",
    "spark.stop()\n"
   ]
  },
  {
   "cell_type": "code",
   "execution_count": null,
   "id": "51165484-9095-497e-aaca-fec29e12118b",
   "metadata": {},
   "outputs": [],
   "source": []
  }
 ],
 "metadata": {
  "kernelspec": {
   "display_name": "Python 3 (ipykernel)",
   "language": "python",
   "name": "python3"
  },
  "language_info": {
   "codemirror_mode": {
    "name": "ipython",
    "version": 3
   },
   "file_extension": ".py",
   "mimetype": "text/x-python",
   "name": "python",
   "nbconvert_exporter": "python",
   "pygments_lexer": "ipython3",
   "version": "3.11.6"
  }
 },
 "nbformat": 4,
 "nbformat_minor": 5
}
