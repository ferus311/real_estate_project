{
 "cells": [
  {
   "cell_type": "code",
   "execution_count": 10,
   "id": "62493218-e5c7-4d49-ab83-b782e519827c",
   "metadata": {},
   "outputs": [
    {
     "name": "stdout",
     "output_type": "stream",
     "text": [
      "root\n",
      " |-- area: string (nullable = true)\n",
      " |-- bathroom: string (nullable = true)\n",
      " |-- bedroom: string (nullable = true)\n",
      " |-- crawl_timestamp: string (nullable = true)\n",
      " |-- data_type: string (nullable = true)\n",
      " |-- description: string (nullable = true)\n",
      " |-- floor_count: string (nullable = true)\n",
      " |-- house_direction: string (nullable = true)\n",
      " |-- house_type: string (nullable = true)\n",
      " |-- interior: string (nullable = true)\n",
      " |-- latitude: string (nullable = true)\n",
      " |-- legal_status: string (nullable = true)\n",
      " |-- length: string (nullable = true)\n",
      " |-- living_size: string (nullable = true)\n",
      " |-- location: string (nullable = true)\n",
      " |-- longitude: string (nullable = true)\n",
      " |-- posted_date: string (nullable = true)\n",
      " |-- price: string (nullable = true)\n",
      " |-- price_per_m2: string (nullable = true)\n",
      " |-- seller_info: string (nullable = true)\n",
      " |-- source: string (nullable = true)\n",
      " |-- title: string (nullable = true)\n",
      " |-- url: string (nullable = true)\n",
      " |-- width: string (nullable = true)\n",
      "\n",
      "+----+--------+-------+---------------+---------+---------------------------------------------------------------------------------------------------------------------------------------------------------------------------------------------------------------------------------------------------------------------------------------------------------------------------------------------------------------------------------------------------------------------------------+-----------+---------------+----------+--------+---------+------------+------+-----------+-------------------------------------------------------------+----------+-----------+-------+------------+--------------------------------------------------------+------+-----------------------------------------------------------+------------------------------------+-----+\n",
      "|area|bathroom|bedroom|crawl_timestamp|data_type|description                                                                                                                                                                                                                                                                                                                                                                                                                      |floor_count|house_direction|house_type|interior|latitude |legal_status|length|living_size|location                                                     |longitude |posted_date|price  |price_per_m2|seller_info                                             |source|title                                                      |url                                 |width|\n",
      "+----+--------+-------+---------------+---------+---------------------------------------------------------------------------------------------------------------------------------------------------------------------------------------------------------------------------------------------------------------------------------------------------------------------------------------------------------------------------------------------------------------------------------+-----------+---------------+----------+--------+---------+------------+------+-----------+-------------------------------------------------------------+----------+-----------+-------+------------+--------------------------------------------------------+------+-----------------------------------------------------------+------------------------------------+-----+\n",
      "|80  |1       |1      |1747838376     |house    |Nhà mặt tiền đường kinh doanh sầm uất, khu vực dân cư đông đúc, sang trọng, an ninh, thuận tiện kinh doanh mua bán nhiều nghề hoặc cho thuê, xung quanh còn có đầy đủ các tiện ích như TTTM Aeon Mall, bệnh viện quốc tế CIH, ngân hàng, chợ, trường học các cấp, rất thuận tiện cho các sinh hoạt hằng ngày. - Vị trí: MT đường Số 2 CX Rada, P.13, Q.6 - Diện tích: 4 x 20m. - Kết cấu: Cấp 4 - Hướng: Tây - Nam - Giá: 8.8 tỷ.|           |8              |null      |4       |10.751096|1           |null  |null       |Đường số 2, Phường 13, Quận 6, Tp Hồ Chí Minh                |106.62455 |1747831703 |8,8 tỷ |110         |{'name': 'Minh Thanh', 'account_id': '2326347'}         |chotot|Nhà MT đường số 2 Cư xá Rada Q6 dt 80m2 giá 8.8 tỷ         |https://nha.chotot.com/121332310.htm|null |\n",
      "|100 |4       |6      |1747838377     |house    |Bán nhà Cityland Center Hills, P7. Gần ngã 6 Gò Vấp - Diện tích: 100m2 (5x20) nhà 1 trệt 3 lầu. Đang có hợp đồng thuê - Vị trí cực đẹp gần sát mặt tiền đường thuận tiện kinh doanh. - Pháp lý: Sổ hồng chính chủ. - Giá: 17,5 tỷ Liên hệ gặp em Kha để xem nhà ạ.                                                                                                                                                               |4          |               |null      |        |10.82677 |1           |null  |null       |Nguyễn Oanh, Phường 7, Quận Gò Vấp, Tp Hồ Chí Minh           |106.68007 |1747831703 |17,5 tỷ|175         |{'name': 'Quốc Kha', 'account_id': '15111659'}          |chotot|Bán nhà giá tốt khu Cityland Center Hills, P7, Gò Vấp      |https://nha.chotot.com/125109541.htm|null |\n",
      "|20  |2       |2      |1747838377     |house    |Bán nhà mini 2 lầu hẻm 183/ Tân Hoà Đông P14 Q6 - DT: (4m x 5m) - KC: Trệt 2 lầu (2PN-2WC) nhà còn mới 90% dọn vào ở liền sàn BTCT - Hẻm 2-3m thông thoáng , vị trí ngay khu chợ Phú Lâm - Giá còn thương lượng                                                                                                                                                                                                                  |3          |1              |null      |3       |10.755369|1           |null  |null       |Đường Tân Hòa Đông, Phường 14, Quận 6, Tp Hồ Chí Minh        |106.633286|1747831694 |2,6 tỷ |130         |{'name': 'Phạm Minh Tiến ', 'account_id': '2517306'}    |chotot|Nhà hẻm Tân Hòa Đông ngày trường Đoàn Kết                  |https://nha.chotot.com/125144966.htm|null |\n",
      "|36  |4       |3      |1747838377     |house    |+ Khu quanh nhà tiện ích vô vàn, giao thông đi các ngả. Mặt ngõ 1 BXT có dự án mở rộng sau cực giá trị. Gần hồ Đầm Hồng, Sân Bóng...+ Nhà đẹp mới xây được 2 năm, gia chủ làm ăn cực lộc thay đổi nhà to.+ Nội thất hiện đại mới sắm tặng lại khách thiện chí.+ Thiết kế:+Tầng 1: Để xe, wc.+ Tầng 2,3,4: tổng 3 phòng ngủ, wc.+ Tầng 5: Bếp ăn hiện thương hiệu Bosch, wc.Tầng 6: Phòng thờ sân phơi.+ Sổ đỏ đẹp                |6          |               |null      |2       |20.987259|1           |null  |null       |Bùi Xương Trạch , Phường Khương Đình, Quận Thanh Xuân, Hà Nội|105.81862 |1747831688 |7,9 tỷ |219.44444   |{'name': 'Văn Sang Nhà Thật ', 'account_id': '26476889'}|chotot|Bùi Xương Trạch 6 tầng thang máy, mới cứng, ô tô đỗ cổng   |https://nha.chotot.com/125144964.htm|null |\n",
      "|48  |4       |5      |1747838377     |house    |Hẻm Xe Hơi 5m..6m,Đuờng Ngô quyền Quận 10, ngag 3,5x14m 3 Lầu,khu công chức an ninh,dân trí ý thức cao, tiện mua làm công ty, Vp, phòng mach,Spa,…v..v Thị trường quận 10, khong thể có nhà nao nhu nhà nay,moi nguoi ko tin cu di xem thử se bit la co dúng sự that hon ak nhe                                                                                                                                                  |           |               |null      |        |10.763016|1           |null  |null       |Đường Ngô Quyền, Phường 8, Quận 10, Tp Hồ Chí Minh           |106.66472 |1747831668 |9,5 tỷ |197.91667   |{'name': 'Nguyen Van Ut', 'account_id': '27797281'}     |chotot|Hẻm Xe Hơi 5m..6m, ngag 3,5x14m 3 Lầu,khu trung tâm quan 10|https://nha.chotot.com/123379177.htm|null |\n",
      "+----+--------+-------+---------------+---------+---------------------------------------------------------------------------------------------------------------------------------------------------------------------------------------------------------------------------------------------------------------------------------------------------------------------------------------------------------------------------------------------------------------------------------+-----------+---------------+----------+--------+---------+------------+------+-----------+-------------------------------------------------------------+----------+-----------+-------+------------+--------------------------------------------------------+------+-----------------------------------------------------------+------------------------------------+-----+\n",
      "only showing top 5 rows\n",
      "\n",
      "+-----+-----+--------+\n",
      "|title|price|location|\n",
      "+-----+-----+--------+\n",
      "+-----+-----+--------+\n",
      "\n"
     ]
    }
   ],
   "source": [
    "from pyspark.sql import SparkSession\n",
    "\n",
    "# Tạo SparkSession\n",
    "spark = SparkSession.builder \\\n",
    "    .appName(\"RealEstateJSONQuery\") \\\n",
    "    .master(\"spark://spark-master:7077\") \\\n",
    "    .config(\"spark.hadoop.fs.defaultFS\", \"hdfs://namenode:9000\") \\\n",
    "    .getOrCreate()\n",
    "\n",
    "# Đường dẫn trên HDFS\n",
    "json_path = \"hdfs://namenode:9000/data/realestate/raw/chotot/house/2025/05\"\n",
    "\n",
    "# Đọc dữ liệu JSON từ HDFS\n",
    "df = spark.read.option(\"multiline\", \"false\").json(json_path)\n",
    "\n",
    "# Hiển thị schema\n",
    "df.printSchema()\n",
    "\n",
    "# Xem trước dữ liệu\n",
    "df.show(5, truncate=False)\n",
    "\n",
    "# Ví dụ: Truy vấn nhà giá > 3 tỷ\n",
    "df.filter(df.price > 3_000_000_000).select(\"title\", \"price\", \"location\").show()\n"
   ]
  },
  {
   "cell_type": "code",
   "execution_count": 11,
   "id": "89bc4005-05c7-4900-9647-a9d9a29aced1",
   "metadata": {},
   "outputs": [
    {
     "name": "stdout",
     "output_type": "stream",
     "text": [
      "Số lượng object JSON: 24500\n"
     ]
    }
   ],
   "source": [
    "object_count = df.count()\n",
    "\n",
    "print(f\"Số lượng object JSON: {object_count}\")"
   ]
  },
  {
   "cell_type": "code",
   "execution_count": 12,
   "id": "b580148d-6927-4a42-876c-020c91376957",
   "metadata": {},
   "outputs": [
    {
     "name": "stdout",
     "output_type": "stream",
     "text": [
      "Row(area='80', bathroom='1', bedroom='1', crawl_timestamp='1747838376', data_type='house', description='Nhà mặt tiền đường kinh doanh sầm uất, khu vực dân cư đông đúc, sang trọng, an ninh, thuận tiện kinh doanh mua bán nhiều nghề hoặc cho thuê, xung quanh còn có đầy đủ các tiện ích như TTTM Aeon Mall, bệnh viện quốc tế CIH, ngân hàng, chợ, trường học các cấp, rất thuận tiện cho các sinh hoạt hằng ngày. - Vị trí: MT đường Số 2 CX Rada, P.13, Q.6 - Diện tích: 4 x 20m. - Kết cấu: Cấp 4 - Hướng: Tây - Nam - Giá: 8.8 tỷ.', floor_count='', house_direction='8', house_type=None, interior='4', latitude='10.751096', legal_status='1', length=None, living_size=None, location='Đường số 2, Phường 13, Quận 6, Tp Hồ Chí Minh', longitude='106.62455', posted_date='1747831703', price='8,8 tỷ', price_per_m2='110', seller_info=\"{'name': 'Minh Thanh', 'account_id': '2326347'}\", source='chotot', title='Nhà MT đường số 2 Cư xá Rada Q6 dt 80m2 giá 8.8 tỷ', url='https://nha.chotot.com/121332310.htm', width=None)\n"
     ]
    }
   ],
   "source": [
    "# Lấy dòng đầu tiên (dạng Row object)\n",
    "first_row = df.first()\n",
    "\n",
    "# In toàn bộ thông tin của dòng đầu tiên\n",
    "print(first_row)"
   ]
  },
  {
   "cell_type": "code",
   "execution_count": 13,
   "id": "c45389f0-47dd-41da-9ac6-9208592adbea",
   "metadata": {},
   "outputs": [
    {
     "name": "stderr",
     "output_type": "stream",
     "text": [
      "[Stage 20:>                                                       (0 + 10) / 10]\r"
     ]
    },
    {
     "name": "stdout",
     "output_type": "stream",
     "text": [
      "Tổng số dòng: 24500\n",
      "Số dòng không trùng: 24500\n",
      "Số dòng trùng lặp: 0\n"
     ]
    },
    {
     "name": "stderr",
     "output_type": "stream",
     "text": [
      "                                                                                \r"
     ]
    }
   ],
   "source": [
    "# Đếm tổng số dòng\n",
    "total_count = df.count()\n",
    "\n",
    "# Đếm số dòng sau khi loại bỏ trùng\n",
    "distinct_count = df.distinct().count()\n",
    "\n",
    "print(f\"Tổng số dòng: {total_count}\")\n",
    "print(f\"Số dòng không trùng: {distinct_count}\")\n",
    "print(f\"Số dòng trùng lặp: {total_count - distinct_count}\")"
   ]
  },
  {
   "cell_type": "code",
   "execution_count": null,
   "id": "13fc9216-db6b-4582-96dd-84ea4d8df1fd",
   "metadata": {},
   "outputs": [],
   "source": []
  }
 ],
 "metadata": {
  "kernelspec": {
   "display_name": "Python 3 (ipykernel)",
   "language": "python",
   "name": "python3"
  },
  "language_info": {
   "codemirror_mode": {
    "name": "ipython",
    "version": 3
   },
   "file_extension": ".py",
   "mimetype": "text/x-python",
   "name": "python",
   "nbconvert_exporter": "python",
   "pygments_lexer": "ipython3",
   "version": "3.11.6"
  }
 },
 "nbformat": 4,
 "nbformat_minor": 5
}
