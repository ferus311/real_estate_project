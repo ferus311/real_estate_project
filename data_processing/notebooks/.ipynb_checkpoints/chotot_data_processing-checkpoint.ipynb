{
 "cells": [
  {
   "cell_type": "markdown",
   "id": "4a151201",
   "metadata": {},
   "source": [
    "# Xử lý dữ liệu Chotot\n",
    "\n",
    "Notebook này triển khai các bước xử lý dữ liệu từ Chotot, bao gồm:\n",
    "- Chuyển đổi các cột số\n",
    "- Xử lý trường giá và giá/m²\n",
    "- Xử lý dữ liệu trùng lặp\n",
    "- Xử lý giá trị thiếu\n",
    "- Loại bỏ giá trị ngoại lai (outliers)\n",
    "- Lọc giá trị không hợp lý"
   ]
  },
  {
   "cell_type": "markdown",
   "id": "49f82107",
   "metadata": {},
   "source": [
    "## Khởi tạo Spark Session và import thư viện"
   ]
  },
  {
   "cell_type": "code",
   "execution_count": null,
   "id": "7e1c037a",
   "metadata": {},
   "outputs": [],
   "source": [
    "import os\n",
    "import sys\n",
    "from datetime import datetime\n",
    "import re\n",
    "\n",
    "from pyspark.sql import SparkSession, DataFrame\n",
    "from pyspark.sql.functions import (\n",
    "    col, to_timestamp, current_timestamp, lit, regexp_replace, trim,\n",
    "    when, upper, lower, split, element_at, round as spark_round,\n",
    "    avg, count, percentile_approx\n",
    ")\n",
    "\n",
    "# Thêm thư mục gốc vào sys.path (điều chỉnh đường dẫn theo môi trường của bạn)\n",
    "project_root = os.path.abspath(os.path.join(os.getcwd(), \"../..\"))\n",
    "sys.path.append(project_root)\n",
    "\n",
    "# Tạo Spark Session\n",
    "spark = SparkSession.builder \\\n",
    "    .appName(\"Chotot Data Processing\") \\\n",
    "    .config(\"spark.ui.port\", \"4050\") \\\n",
    "    .config(\"spark.driver.memory\", \"4g\") \\\n",
    "    .config(\"spark.executor.memory\", \"4g\") \\\n",
    "    .getOrCreate()\n",
    "\n",
    "print(\"Spark session created successfully\")"
   ]
  },
  {
   "cell_type": "markdown",
   "id": "00215d6a",
   "metadata": {},
   "source": [
    "## Định nghĩa các hàm tiện ích\n",
    "\n",
    "Đối với Jupyter notebook, chúng ta sẽ tạo các hàm tiện ích tương tự với mã gốc."
   ]
  },
  {
   "cell_type": "code",
   "execution_count": null,
   "id": "c212ebd0",
   "metadata": {},
   "outputs": [],
   "source": [
    "def get_date_format(date_obj=None):\n",
    "    \"\"\"Trả về ngày theo định dạng YYYY-MM-DD\"\"\"\n",
    "    if date_obj is None:\n",
    "        date_obj = datetime.now()\n",
    "    return date_obj.strftime(\"%Y-%m-%d\")\n",
    "\n",
    "def log_dataframe_info(df, name=\"dataframe\"):\n",
    "    \"\"\"In thông tin về DataFrame\"\"\"\n",
    "    print(f\"\\n===== Thông tin về {name} =====\")\n",
    "    print(f\"Số lượng bản ghi: {df.count()}\")\n",
    "    print(f\"Schema:\")\n",
    "    df.printSchema()\n",
    "    print(\"\\nMẫu dữ liệu:\")\n",
    "    df.show(5, truncate=False)\n",
    "\n",
    "    # Thống kê null values\n",
    "    null_counts = df.select([count(when(col(c).isNull(), c)).alias(c) for c in df.columns])\n",
    "    print(\"\\nSố lượng giá trị NULL trong từng cột:\")\n",
    "    null_counts.show(truncate=False)"
   ]
  },
  {
   "cell_type": "markdown",
   "id": "70fe37dd",
   "metadata": {},
   "source": [
    "## Đọc dữ liệu\n",
    "\n",
    "Đọc dữ liệu từ file Parquet. Đối với notebook, chúng ta sẽ sử dụng file CSV để tiện thử nghiệm."
   ]
  },
  {
   "cell_type": "code",
   "execution_count": null,
   "id": "996ed0d8",
   "metadata": {},
   "outputs": [],
   "source": [
    "# Điều chỉnh đường dẫn file dữ liệu theo môi trường của bạn\n",
    "# Có thể sử dụng file CSV trong thư mục tmp\n",
    "json_path = \"hdfs://namenode:9000/data/realestate/raw/chotot/house/2025/05/*\"\n",
    "df = spark.read.option(\"multiline\", \"false\").json(json_path)\n",
    "# Đọc dữ liệu\n"
   ]
  },
  {
   "cell_type": "markdown",
   "id": "0742d28e",
   "metadata": {},
   "source": [
    "## Chuyển đổi các cột số"
   ]
  },
  {
   "cell_type": "code",
   "execution_count": null,
   "id": "378e6577",
   "metadata": {},
   "outputs": [],
   "source": [
    "# Chuyển đổi các cột số\n",
    "transformed_df = (\n",
    "    bronze_df.withColumn(\n",
    "        \"area\", regexp_replace(col(\"area\"), \"[^0-9\\\\.]\", \"\").cast(\"double\")\n",
    "    )\n",
    "    .withColumn(\n",
    "        \"bathroom\", regexp_replace(col(\"bathroom\"), \"[^0-9]\", \"\").cast(\"double\")\n",
    "    )\n",
    "    .withColumn(\n",
    "        \"bedroom\", regexp_replace(col(\"bedroom\"), \"[^0-9]\", \"\").cast(\"double\")\n",
    "    )\n",
    "    .withColumn(\n",
    "        \"floor_count\",\n",
    "        regexp_replace(col(\"floor_count\"), \"[^0-9]\", \"\").cast(\"double\"),\n",
    "    )\n",
    "    .withColumn(\n",
    "        \"length\", regexp_replace(col(\"length\"), \"[^0-9\\\\.]\", \"\").cast(\"double\")\n",
    "    )\n",
    "    .withColumn(\n",
    "        \"width\", regexp_replace(col(\"width\"), \"[^0-9\\\\.]\", \"\").cast(\"double\")\n",
    "    )\n",
    "    .withColumn(\n",
    "        \"living_size\",\n",
    "        regexp_replace(col(\"living_size\"), \"[^0-9\\\\.]\", \"\").cast(\"double\"),\n",
    "    )\n",
    "    .withColumn(\"latitude\", col(\"latitude\").cast(\"double\"))\n",
    "    .withColumn(\"longitude\", col(\"longitude\").cast(\"double\"))\n",
    ")\n",
    "\n",
    "print(\"Đã chuyển đổi các cột số\")\n",
    "transformed_df.select(\"area\", \"bathroom\", \"bedroom\", \"floor_count\", \"length\", \"width\").show(5)"
   ]
  },
  {
   "cell_type": "markdown",
   "id": "b43f563d",
   "metadata": {},
   "source": [
    "## Xử lý trường giá"
   ]
  },
  {
   "cell_type": "code",
   "execution_count": null,
   "id": "8c919658",
   "metadata": {},
   "outputs": [],
   "source": [
    "# Xử lý trường giá\n",
    "transformed_df = (\n",
    "    transformed_df.withColumn(\"price_text\", trim(col(\"price\")))\n",
    "    .withColumn(\n",
    "        \"price\",\n",
    "        when(\n",
    "            lower(col(\"price_text\")).contains(\"tỷ\"),\n",
    "            regexp_replace(col(\"price_text\"), \"[^0-9\\\\.]\", \"\").cast(\"double\")\n",
    "            * 1000000000,\n",
    "        )\n",
    "        .when(\n",
    "            lower(col(\"price_text\")).contains(\"triệu\"),\n",
    "            regexp_replace(col(\"price_text\"), \"[^0-9\\\\.]\", \"\").cast(\"double\")\n",
    "            * 1000000,\n",
    "        )\n",
    "        .otherwise(\n",
    "            regexp_replace(col(\"price_text\"), \"[^0-9\\\\.]\", \"\").cast(\"double\")\n",
    "        ),\n",
    "    )\n",
    "    .drop(\"price_text\")\n",
    ")\n",
    "\n",
    "print(\"Đã xử lý trường giá\")\n",
    "transformed_df.select(\"price\").show(5)"
   ]
  },
  {
   "cell_type": "markdown",
   "id": "00e77c0a",
   "metadata": {},
   "source": [
    "## Xử lý trường giá/m²"
   ]
  },
  {
   "cell_type": "code",
   "execution_count": null,
   "id": "de99c834",
   "metadata": {},
   "outputs": [],
   "source": [
    "# Xử lý trường giá/m2 - đơn vị chỉ là triệu\n",
    "transformed_df = (\n",
    "    transformed_df.withColumn(\"price_per_m2_text\", trim(col(\"price_per_m2\")))\n",
    "    .withColumn(\n",
    "        \"price_per_m2\",\n",
    "        regexp_replace(col(\"price_per_m2_text\"), \"[^0-9\\\\.]\", \"\").cast(\"double\")\n",
    "        * 1000000,\n",
    "    )\n",
    "    .drop(\"price_per_m2_text\")\n",
    ")\n",
    "\n",
    "print(\"Đã xử lý trường giá/m2\")\n",
    "transformed_df.select(\"price_per_m2\").show(5)"
   ]
  },
  {
   "cell_type": "markdown",
   "id": "013c0a76",
   "metadata": {},
   "source": [
    "## Chuyển đổi timestamp"
   ]
  },
  {
   "cell_type": "code",
   "execution_count": null,
   "id": "9056236a",
   "metadata": {},
   "outputs": [],
   "source": [
    "# Chuyển đổi timestamp\n",
    "transformed_df = transformed_df.withColumn(\n",
    "    \"crawl_timestamp\", to_timestamp(col(\"crawl_timestamp\"))\n",
    ").withColumn(\"posted_date\", to_timestamp(col(\"posted_date\")))\n",
    "\n",
    "print(\"Đã chuyển đổi timestamp\")\n",
    "transformed_df.select(\"crawl_timestamp\", \"posted_date\").show(5)"
   ]
  },
  {
   "cell_type": "markdown",
   "id": "67ae572b",
   "metadata": {},
   "source": [
    "## Xử lý text fields"
   ]
  },
  {
   "cell_type": "code",
   "execution_count": null,
   "id": "31060822",
   "metadata": {},
   "outputs": [],
   "source": [
    "# Xử lý text fields - giữ nguyên các trường đã mã hóa thành số\n",
    "transformed_df = (\n",
    "    transformed_df.withColumn(\"location\", trim(col(\"location\")))\n",
    "    .withColumn(\"title\", trim(col(\"title\")))\n",
    "    .withColumn(\"description\", trim(col(\"description\")))\n",
    "    # Các trường house_direction, legal_status, interior, house_type đã được mã hóa thành số, giữ nguyên\n",
    ")\n",
    "\n",
    "print(\"Đã xử lý text fields\")\n",
    "transformed_df.select(\"location\", \"title\", \"house_direction\", \"house_type\", \"legal_status\", \"interior\").show(5, truncate=False)"
   ]
  },
  {
   "cell_type": "markdown",
   "id": "415375dd",
   "metadata": {},
   "source": [
    "## Xử lý dữ liệu trùng lặp"
   ]
  },
  {
   "cell_type": "code",
   "execution_count": null,
   "id": "e0a13aa7",
   "metadata": {},
   "outputs": [],
   "source": [
    "# Đếm số bản ghi trước khi xử lý\n",
    "count_before = transformed_df.count()\n",
    "print(f\"Số bản ghi trước khi xử lý trùng lặp: {count_before}\")\n",
    "\n",
    "# Xử lý dữ liệu trùng lặp\n",
    "transformed_df = transformed_df.dropDuplicates([\"url\"])\n",
    "\n",
    "# Đếm số bản ghi sau khi xử lý\n",
    "count_after = transformed_df.count()\n",
    "print(f\"Số bản ghi sau khi xử lý trùng lặp: {count_after}\")\n",
    "print(f\"Số bản ghi trùng lặp đã loại bỏ: {count_before - count_after}\")"
   ]
  },
  {
   "cell_type": "markdown",
   "id": "d7e7add6",
   "metadata": {},
   "source": [
    "## Xử lý giá trị thiếu"
   ]
  },
  {
   "cell_type": "code",
   "execution_count": null,
   "id": "fdfa2001",
   "metadata": {},
   "outputs": [],
   "source": [
    "# Tính toán giá trị trung bình cho các cột số\n",
    "avg_values = {}\n",
    "for col_name in [\"bathroom\", \"bedroom\", \"floor_count\"]:\n",
    "    avg_val = (\n",
    "        transformed_df.filter(col(col_name).isNotNull())\n",
    "        .agg(avg(col(col_name)))\n",
    "        .collect()[0][0]\n",
    "    )\n",
    "    if avg_val is not None:\n",
    "        avg_values[col_name] = avg_val\n",
    "\n",
    "print(\"Giá trị trung bình cho các cột số:\")\n",
    "for col_name, value in avg_values.items():\n",
    "    print(f\"  - {col_name}: {value:.2f}\")\n",
    "\n",
    "# Điền giá trị thiếu cho các cột số quan trọng\n",
    "for col_name in [\"bathroom\", \"bedroom\", \"floor_count\"]:\n",
    "    if col_name in avg_values:\n",
    "        transformed_df = transformed_df.withColumn(\n",
    "            col_name,\n",
    "            when(col(col_name).isNull(), avg_values[col_name]).otherwise(\n",
    "                col(col_name)\n",
    "            ),\n",
    "        )\n",
    "\n",
    "# Xóa cột seller_info (không mang nhiều giá trị phân tích)\n",
    "if \"seller_info\" in transformed_df.columns:\n",
    "    transformed_df = transformed_df.drop(\"seller_info\")\n",
    "    print(\"Đã xóa cột seller_info\")\n",
    "\n",
    "print(\"\\nSố lượng giá trị NULL sau khi điền giá trị thiếu:\")\n",
    "null_counts_after = transformed_df.select([count(when(col(c).isNull(), c)).alias(c) for c in transformed_df.columns])\n",
    "null_counts_after.show()"
   ]
  },
  {
   "cell_type": "markdown",
   "id": "37f3af50",
   "metadata": {},
   "source": [
    "## Xử lý giá trị ngoại lai (outliers)"
   ]
  },
  {
   "cell_type": "code",
   "execution_count": null,
   "id": "aaa5c957",
   "metadata": {},
   "outputs": [],
   "source": [
    "# Tính percentile cho các cột số để xác định ngưỡng\n",
    "percentiles = transformed_df.select(\n",
    "    percentile_approx(\"area\", [0.01, 0.99], 10000).alias(\"area_percentiles\"),\n",
    "    percentile_approx(\"price\", [0.01, 0.99], 10000).alias(\"price_percentiles\"),\n",
    "    percentile_approx(\"price_per_m2\", [0.01, 0.99], 10000).alias(\n",
    "        \"price_per_m2_percentiles\"\n",
    "    ),\n",
    "    percentile_approx(\"bedroom\", [0.01, 0.99], 10000).alias(\n",
    "        \"bedroom_percentiles\"\n",
    "    ),\n",
    "    percentile_approx(\"bathroom\", [0.01, 0.99], 10000).alias(\n",
    "        \"bathroom_percentiles\"\n",
    "    ),\n",
    ").collect()[0]\n",
    "\n",
    "print(\"Ngưỡng percentile cho các cột:\")\n",
    "for col_name in [\"area\", \"price\", \"price_per_m2\", \"bedroom\", \"bathroom\"]:\n",
    "    percentile_values = percentiles[f\"{col_name}_percentiles\"]\n",
    "    print(f\"  - {col_name}: 1%={percentile_values[0]}, 99%={percentile_values[1]}\")\n",
    "\n",
    "# Đếm số bản ghi trước khi lọc\n",
    "count_before_filter = transformed_df.count()\n",
    "print(f\"\\nSố bản ghi trước khi lọc outliers: {count_before_filter}\")\n",
    "\n",
    "# Lọc giá trị ngoại lai dựa trên percentiles - price không bao giờ thiếu\n",
    "filtered_df = transformed_df.filter(\n",
    "    (col(\"area\") >= percentiles[\"area_percentiles\"][0])\n",
    "    & (col(\"area\") <= percentiles[\"area_percentiles\"][1])\n",
    "    & (col(\"price\") >= percentiles[\"price_percentiles\"][0])\n",
    "    & (col(\"price\") <= percentiles[\"price_percentiles\"][1])\n",
    "    & (\n",
    "        (col(\"price_per_m2\").isNull())\n",
    "        | (\n",
    "            (col(\"price_per_m2\") >= percentiles[\"price_per_m2_percentiles\"][0])\n",
    "            & (\n",
    "                col(\"price_per_m2\")\n",
    "                <= percentiles[\"price_per_m2_percentiles\"][1]\n",
    "            )\n",
    "        )\n",
    "    )\n",
    "    & (\n",
    "        (col(\"bedroom\").isNull())\n",
    "        | (\n",
    "            (col(\"bedroom\") >= percentiles[\"bedroom_percentiles\"][0])\n",
    "            & (col(\"bedroom\") <= percentiles[\"bedroom_percentiles\"][1])\n",
    "        )\n",
    "    )\n",
    "    & (\n",
    "        (col(\"bathroom\").isNull())\n",
    "        | (\n",
    "            (col(\"bathroom\") >= percentiles[\"bathroom_percentiles\"][0])\n",
    "            & (col(\"bathroom\") <= percentiles[\"bathroom_percentiles\"][1])\n",
    "        )\n",
    "    )\n",
    ")\n",
    "\n",
    "# Đếm số bản ghi sau khi lọc ngoại lai\n",
    "count_after_filter = filtered_df.count()\n",
    "print(f\"Số bản ghi sau khi lọc outliers: {count_after_filter}\")\n",
    "print(f\"Số bản ghi outlier đã loại bỏ: {count_before_filter - count_after_filter}\")\n",
    "\n",
    "# Cập nhật DataFrame\n",
    "transformed_df = filtered_df"
   ]
  },
  {
   "cell_type": "markdown",
   "id": "2e5b908a",
   "metadata": {},
   "source": [
    "## Lọc giá trị không hợp lý"
   ]
  },
  {
   "cell_type": "code",
   "execution_count": null,
   "id": "aa58688a",
   "metadata": {},
   "outputs": [],
   "source": [
    "# Đếm số bản ghi trước khi lọc\n",
    "count_before_logical = transformed_df.count()\n",
    "print(f\"Số bản ghi trước khi lọc giá trị không hợp lý: {count_before_logical}\")\n",
    "\n",
    "# Lọc giá trị không hợp lý - price luôn có giá trị\n",
    "transformed_df = transformed_df.filter(\n",
    "    (col(\"area\") > 0)\n",
    "    & (col(\"price\") > 0)\n",
    "    & ((col(\"price_per_m2\").isNull()) | (col(\"price_per_m2\") > 0))\n",
    "    & ((col(\"bedroom\").isNull()) | (col(\"bedroom\") >= 0))\n",
    "    & ((col(\"bathroom\").isNull()) | (col(\"bathroom\") >= 0))\n",
    "    & ((col(\"floor_count\").isNull()) | (col(\"floor_count\") >= 0))\n",
    ")\n",
    "\n",
    "# Đếm số bản ghi sau khi lọc\n",
    "count_after_logical = transformed_df.count()\n",
    "print(f\"Số bản ghi sau khi lọc giá trị không hợp lý: {count_after_logical}\")\n",
    "print(f\"Số bản ghi không hợp lý đã loại bỏ: {count_before_logical - count_after_logical}\")"
   ]
  },
  {
   "cell_type": "markdown",
   "id": "1ae00214",
   "metadata": {},
   "source": [
    "## Tính toán price_per_m2 nếu thiếu"
   ]
  },
  {
   "cell_type": "code",
   "execution_count": null,
   "id": "a68da637",
   "metadata": {},
   "outputs": [],
   "source": [
    "# Đếm số bản ghi thiếu price_per_m2 trước khi điền\n",
    "missing_price_per_m2 = transformed_df.filter(col(\"price_per_m2\").isNull()).count()\n",
    "print(f\"Số bản ghi thiếu price_per_m2 trước khi điền: {missing_price_per_m2}\")\n",
    "\n",
    "# Tạo giá trị price_per_m2 nếu thiếu\n",
    "transformed_df = transformed_df.withColumn(\n",
    "    \"price_per_m2\",\n",
    "    when(\n",
    "        col(\"price_per_m2\").isNull() & col(\"area\").isNotNull(),\n",
    "        spark_round(col(\"price\") / col(\"area\"), 2),\n",
    "    ).otherwise(col(\"price_per_m2\")),\n",
    ")\n",
    "\n",
    "# Đếm số bản ghi thiếu price_per_m2 sau khi điền\n",
    "missing_price_per_m2_after = transformed_df.filter(col(\"price_per_m2\").isNull()).count()\n",
    "print(f\"Số bản ghi thiếu price_per_m2 sau khi điền: {missing_price_per_m2_after}\")\n",
    "print(f\"Số bản ghi đã điền price_per_m2: {missing_price_per_m2 - missing_price_per_m2_after}\")"
   ]
  },
  {
   "cell_type": "markdown",
   "id": "8a23d2a2",
   "metadata": {},
   "source": [
    "## Lọc các bản ghi không hợp lệ"
   ]
  },
  {
   "cell_type": "code",
   "execution_count": null,
   "id": "9d4345ed",
   "metadata": {},
   "outputs": [],
   "source": [
    "# Đếm số bản ghi trước khi lọc cuối cùng\n",
    "count_before_final = transformed_df.count()\n",
    "print(f\"Số bản ghi trước khi lọc cuối cùng: {count_before_final}\")\n",
    "\n",
    "# Lọc bỏ các bản ghi không hợp lệ - price không bao giờ thiếu\n",
    "valid_df = transformed_df.filter(\n",
    "    col(\"area\").isNotNull() & col(\"location\").isNotNull()\n",
    ")\n",
    "\n",
    "# Đếm số bản ghi sau khi lọc cuối cùng\n",
    "count_after_final = valid_df.count()\n",
    "print(f\"Số bản ghi sau khi lọc cuối cùng: {count_after_final}\")\n",
    "print(f\"Số bản ghi không hợp lệ đã loại bỏ: {count_before_final - count_after_final}\")"
   ]
  },
  {
   "cell_type": "markdown",
   "id": "fb470a42",
   "metadata": {},
   "source": [
    "## Thống kê kết quả"
   ]
  },
  {
   "cell_type": "code",
   "execution_count": null,
   "id": "14aaef48",
   "metadata": {},
   "outputs": [],
   "source": [
    "# Tổng kết quá trình xử lý\n",
    "total_records_initial = bronze_df.count()\n",
    "valid_records = valid_df.count()\n",
    "filtered_records = total_records_initial - valid_records\n",
    "\n",
    "print(f\"Tổng số bản ghi ban đầu: {total_records_initial}\")\n",
    "print(f\"Số bản ghi hợp lệ sau xử lý: {valid_records}\")\n",
    "print(f\"Số bản ghi bị loại bỏ: {filtered_records}\")\n",
    "\n",
    "if total_records_initial > 0:\n",
    "    print(f\"Tỷ lệ dữ liệu giữ lại: {valid_records/total_records_initial*100:.2f}%\")\n",
    "\n",
    "# Thống kê các cột còn thiếu giá trị\n",
    "missing_stats = valid_df.select(\n",
    "    [count(when(col(c).isNull(), c)).alias(c) for c in valid_df.columns]\n",
    ").collect()[0]\n",
    "\n",
    "print(\"\\nThống kê giá trị còn thiếu sau xử lý:\")\n",
    "for col_name in valid_df.columns:\n",
    "    missing_count = missing_stats[col_name]\n",
    "    if missing_count > 0:\n",
    "        print(\n",
    "            f\"  - {col_name}: {missing_count} giá trị thiếu ({missing_count/valid_records*100:.2f}%)\"\n",
    "        )\n",
    "\n",
    "# Log thông tin sau chuyển đổi\n",
    "log_dataframe_info(valid_df, \"transformed_data\")"
   ]
  },
  {
   "cell_type": "markdown",
   "id": "1f6d3f83",
   "metadata": {},
   "source": [
    "## Ghi dữ liệu đã xử lý"
   ]
  },
  {
   "cell_type": "code",
   "execution_count": null,
   "id": "c72aaf40",
   "metadata": {},
   "outputs": [],
   "source": [
    "# Xác định đường dẫn ghi dữ liệu\n",
    "output_date = get_date_format()\n",
    "output_path = f\"/home/fer/data/real_estate_project/tmp/chotot_transformed_{output_date.replace('-', '')}.parquet\"\n",
    "\n",
    "# Ghi dữ liệu đã xử lý\n",
    "try:\n",
    "    valid_df.write.mode(\"overwrite\").parquet(output_path)\n",
    "    print(f\"Đã ghi {valid_df.count()} bản ghi vào {output_path}\")\n",
    "except Exception as e:\n",
    "    print(f\"Lỗi khi ghi dữ liệu: {str(e)}\")\n",
    "    # Nếu không thể ghi parquet, thử ghi CSV\n",
    "    output_path_csv = f\"/home/fer/data/real_estate_project/tmp/chotot_transformed_{output_date.replace('-', '')}.csv\"\n",
    "    try:\n",
    "        valid_df.write.option(\"header\", \"true\").mode(\"overwrite\").csv(output_path_csv)\n",
    "        print(f\"Đã ghi {valid_df.count()} bản ghi vào {output_path_csv}\")\n",
    "    except Exception as e2:\n",
    "        print(f\"Lỗi khi ghi dữ liệu CSV: {str(e2)}\")"
   ]
  },
  {
   "cell_type": "markdown",
   "id": "06968830",
   "metadata": {},
   "source": [
    "## Phân tích dữ liệu đã xử lý\n",
    "\n",
    "Sau khi hoàn thành các bước xử lý dữ liệu, bạn có thể thực hiện phân tích thêm trên dữ liệu đã được làm sạch."
   ]
  },
  {
   "cell_type": "code",
   "execution_count": null,
   "id": "890d5123",
   "metadata": {},
   "outputs": [],
   "source": [
    "# Phân tích phân phối giá\n",
    "print(\"Phân phối giá:\")\n",
    "valid_df.select(\"price\").summary(\n",
    "    \"count\", \"min\", \"25%\", \"50%\", \"75%\", \"max\", \"mean\", \"stddev\"\n",
    ").show()\n",
    "\n",
    "# Phân phối diện tích\n",
    "print(\"\\nPhân phối diện tích:\")\n",
    "valid_df.select(\"area\").summary(\n",
    "    \"count\", \"min\", \"25%\", \"50%\", \"75%\", \"max\", \"mean\", \"stddev\"\n",
    ").show()\n",
    "\n",
    "# Phân phối giá/m2\n",
    "print(\"\\nPhân phối giá/m2:\")\n",
    "valid_df.select(\"price_per_m2\").summary(\n",
    "    \"count\", \"min\", \"25%\", \"50%\", \"75%\", \"max\", \"mean\", \"stddev\"\n",
    ").show()"
   ]
  },
  {
   "cell_type": "code",
   "execution_count": null,
   "id": "5c9ec384",
   "metadata": {},
   "outputs": [],
   "source": [
    "# Dừng Spark session khi hoàn thành\n",
    "spark.stop()\n",
    "print(\"Spark session đã dừng\")"
   ]
  }
 ],
 "metadata": {
  "kernelspec": {
   "display_name": "Python 3 (ipykernel)",
   "language": "python",
   "name": "python3"
  },
  "language_info": {
   "codemirror_mode": {
    "name": "ipython",
    "version": 3
   },
   "file_extension": ".py",
   "mimetype": "text/x-python",
   "name": "python",
   "nbconvert_exporter": "python",
   "pygments_lexer": "ipython3",
   "version": "3.11.6"
  }
 },
 "nbformat": 4,
 "nbformat_minor": 5
}
