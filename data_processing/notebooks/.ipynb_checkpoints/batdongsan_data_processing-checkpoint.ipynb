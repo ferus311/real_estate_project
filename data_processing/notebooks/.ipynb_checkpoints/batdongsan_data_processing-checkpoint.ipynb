{
 "cells": [
  {
   "cell_type": "code",
   "execution_count": 1,
   "id": "fc1fb3ba-89b8-4515-b784-3edd9e0c8b7b",
   "metadata": {},
   "outputs": [
    {
     "name": "stderr",
     "output_type": "stream",
     "text": [
      "Setting default log level to \"WARN\".\n",
      "To adjust logging level use sc.setLogLevel(newLevel). For SparkR, use setLogLevel(newLevel).\n",
      "25/05/24 16:48:08 WARN NativeCodeLoader: Unable to load native-hadoop library for your platform... using builtin-java classes where applicable\n"
     ]
    },
    {
     "name": "stdout",
     "output_type": "stream",
     "text": [
      "Spark session created successfully\n"
     ]
    }
   ],
   "source": [
    "import os\n",
    "import sys\n",
    "from datetime import datetime\n",
    "import re\n",
    "\n",
    "from pyspark.sql import SparkSession, DataFrame\n",
    "from pyspark.sql.functions import (\n",
    "    col, to_timestamp, current_timestamp, lit, regexp_replace, trim,\n",
    "    when, upper, lower, split, element_at, round as spark_round,\n",
    "    avg, count, percentile_approx\n",
    ")\n",
    "\n",
    "# Thêm thư mục gốc vào sys.path (điều chỉnh đường dẫn theo môi trường của bạn)\n",
    "project_root = os.path.abspath(os.path.join(os.getcwd(), \"../..\"))\n",
    "sys.path.append(project_root)\n",
    "\n",
    "# Tạo Spark Session\n",
    "spark = SparkSession.builder \\\n",
    "    .appName(\"Chotot Data Processing\") \\\n",
    "    .config(\"spark.ui.port\", \"4050\") \\\n",
    "    .config(\"spark.driver.memory\", \"4g\") \\\n",
    "    .config(\"spark.executor.memory\", \"4g\") \\\n",
    "    .config(\"spark.hadoop.fs.defaultFS\", \"hdfs://namenode:9000\") \\\n",
    "    .getOrCreate()\n",
    "\n",
    "print(\"Spark session created successfully\")"
   ]
  },
  {
   "cell_type": "code",
   "execution_count": 2,
   "id": "ef43226a-c6c6-42e5-8b93-1c9af7596a5d",
   "metadata": {},
   "outputs": [],
   "source": [
    "def get_date_format(date_obj=None):\n",
    "    \"\"\"Trả về ngày theo định dạng YYYY-MM-DD\"\"\"\n",
    "    if date_obj is None:\n",
    "        date_obj = datetime.now()\n",
    "    return date_obj.strftime(\"%Y-%m-%d\")\n",
    "\n",
    "def log_dataframe_info(df, name=\"dataframe\"):\n",
    "    \"\"\"In thông tin về DataFrame\"\"\"\n",
    "    print(f\"\\n===== Thông tin về {name} =====\")\n",
    "    print(f\"Số lượng bản ghi: {df.count()}\")\n",
    "    print(f\"Schema:\")\n",
    "    df.printSchema()\n",
    "    print(\"\\nMẫu dữ liệu:\")\n",
    "    df.show(5, truncate=False)\n",
    "\n",
    "    # Thống kê null values\n",
    "    null_counts = df.select([count(when(col(c).isNull(), c)).alias(c) for c in df.columns])\n",
    "    print(\"\\nSố lượng giá trị NULL trong từng cột:\")\n",
    "    null_counts.show(truncate=False)"
   ]
  },
  {
   "cell_type": "code",
   "execution_count": 3,
   "id": "2eabd669-cc73-47a5-89c7-d9bd1535f3aa",
   "metadata": {},
   "outputs": [
    {
     "name": "stderr",
     "output_type": "stream",
     "text": [
      "                                                                                \r"
     ]
    },
    {
     "name": "stdout",
     "output_type": "stream",
     "text": [
      "Đã đọc dữ liệu JSON từ: hdfs://namenode:9000/data/realestate/raw/batdongsan/house/2025/05/*\n",
      "\n",
      "===== Thông tin về raw_json_data =====\n",
      "Số lượng bản ghi: 17336\n",
      "Schema:\n",
      "root\n",
      " |-- area: string (nullable = true)\n",
      " |-- bathroom: string (nullable = true)\n",
      " |-- bedroom: string (nullable = true)\n",
      " |-- crawl_timestamp: string (nullable = true)\n",
      " |-- data_type: string (nullable = true)\n",
      " |-- description: string (nullable = true)\n",
      " |-- facade_width: string (nullable = true)\n",
      " |-- floor_count: string (nullable = true)\n",
      " |-- house_direction: string (nullable = true)\n",
      " |-- interior: string (nullable = true)\n",
      " |-- latitude: string (nullable = true)\n",
      " |-- legal_status: string (nullable = true)\n",
      " |-- location: string (nullable = true)\n",
      " |-- longitude: string (nullable = true)\n",
      " |-- posted_date: string (nullable = true)\n",
      " |-- price: string (nullable = true)\n",
      " |-- price_per_m2: string (nullable = true)\n",
      " |-- road_width: string (nullable = true)\n",
      " |-- seller_info: string (nullable = true)\n",
      " |-- source: string (nullable = true)\n",
      " |-- title: string (nullable = true)\n",
      " |-- url: string (nullable = true)\n",
      "\n",
      "\n",
      "Mẫu dữ liệu:\n",
      "+--------+--------+-------+---------------+---------+-------------------------------------------------------------------------------------------------------------------------------------------------------------------------------------------------------------------------------------------------------------------------------------------------------------------------------------------------------------------------------------------------------------------------------------------------------------------------------------------------------------------------------------------------------------------------------------------------------------------------------------------------------------------------------------------------------------+------------+-----------+---------------+--------+------------------+--------------+---------------------------------------------------------------+------------------+-----------+-------+----------------+----------+-----------+----------+--------------------------------------------------------------------------------------------------+---------------------------------------------------------------------------------------------------------------------------------------------------------------+\n",
      "|area    |bathroom|bedroom|crawl_timestamp|data_type|description                                                                                                                                                                                                                                                                                                                                                                                                                                                                                                                                                                                                                                                                                                  |facade_width|floor_count|house_direction|interior|latitude          |legal_status  |location                                                       |longitude         |posted_date|price  |price_per_m2    |road_width|seller_info|source    |title                                                                                             |url                                                                                                                                                            |\n",
      "+--------+--------+-------+---------------+---------+-------------------------------------------------------------------------------------------------------------------------------------------------------------------------------------------------------------------------------------------------------------------------------------------------------------------------------------------------------------------------------------------------------------------------------------------------------------------------------------------------------------------------------------------------------------------------------------------------------------------------------------------------------------------------------------------------------------+------------+-----------+---------------+--------+------------------+--------------+---------------------------------------------------------------+------------------+-----------+-------+----------------+----------+-----------+----------+--------------------------------------------------------------------------------------------------+---------------------------------------------------------------------------------------------------------------------------------------------------------------+\n",
      "|69,1 m² |        |       |1747840157     |house    |Nhà mặt phố tại Tân Hương, Phường Tân Quý, Quận Tân Phú, Hồ Chí Minh với nhiều điểm nổi bật.Diện tích: 4m x 17.5 m vuông vức, DTCN: 69.1 m² - DTS: 113.9 m².Vị trí đắc địa, thuận tiện giao thông.Khu vực đông dân cư, tiềm năng kinh doanh cao.Bán giá 16 tỷ làm việc trực tiếp chủ nhà.Thông tin và hình ảnh chính xác 100%.Ngoài ra còn nhiều sản phẩm giá tốt ở các đường khác để quý khách tham khảo.* Liên hệ:0987 788 ***Mr. Hoàng Anh Phó Giám Đốc Chi Nhánh Tân Phú.* Công Ty Địa Ốc Bất Động Sản Tân Phú Land.* Trụ sở: 142 Trương Vĩnh Ký, Phường Tân Sơn Nhì, Quận Tân Phú.* CN1: 179 Trương Vĩnh Ký, Phường Tân Thành, Quận Tân Phú.* CN2: 229 Lê Văn Quới, Phường Bình Trị Đông, Quận Bình Tân.|            |           |               |        |10.7899862059394  |Có sổ.        |Đường Tân Hương, Phường Tân Quý, Tân Phú, Hồ Chí Minh          |106.621779417643  |1747785600 |16 tỷ  |~231,55 triệu/m²|          |           |batdongsan|Hot - Mặt tiền sung Tân Hương (đối diện chợ) 4m x 17.5m chỉ 16 tỷ, LH:0987 788 ***- Hoàng Anh     |https://batdongsan.com.vn/ban-nha-mat-pho-duong-tan-huong-phuong-tan-quy-2/hot-tien-sung-doi-dien-cho-4m-x-17-5m-chi-16-ty-lh-hoang-anh-pr43038810             |\n",
      "|184,7 m²|1 phòng |2 phòng|1747840157     |house    |Bán nhà mặt tiền Lê Hồng Phong, Phước Hải cạnh công ty truyền tải điện 3Diện tích 184,7m² (ngang 5,5m, nở hậu 8m)Đường Lê Hồng Phong rộng 22,5mHiện trạng nhà cấp 4 đang cho thuê 15tr/thángVị trí: gần vòng xoay Mả Vòng, cách siêu thị CoopMart 500m, khu vực kinh doanh sầm uấtHướng đôngGiá bán 18 tỷLH0905 324 ***em Dũng                                                                                                                                                                                                                                                                                                                                                                               |5,5 m       |1 tầng     |Đông           |        |12.24812980955561 |Sổ đỏ/ Sổ hồng|Đường Lê Hồng Phong, Phường Phước Hải, Nha Trang, Khánh Hòa    |109.18147377669811|1747785600 |18 tỷ  |~97,46 triệu/m² |22,5 m    |           |batdongsan|Bán nhà mặt tiền đường Lê Hồng Phong, cạnh công ty truyền tải điện 3. DT 184,7m2 giá 18 tỷ        |https://batdongsan.com.vn/ban-nha-mat-pho-duong-le-hong-phong-phuong-phuoc-hai/ban-tien-p-canh-cong-ty-truyen-tai-dien-3-dt-184-7m2-gia-18-ty-pr43038514       |\n",
      "|240 m²  |9 phòng |       |1747840157     |house    |Siêu tòa nhà văn phòng - mặt phố trung tâm của trung tâm giao thoa - đẳng cấp dòng tiền khủng - vỉa hè bóng đá - 2 thang máy 750kg.Siêu phẩm nhà mặt phố, vị trí đi qua ai cũng phải chú ý. Dòng tiền ước tính 1 tỷ/ tháng.Chủ nhà trẻ tuổi tài cao bđs đếm bằng hecta.Nhà xây năm 2022 có đầy đủ giấy phép xd và pccc đạt tiêu chuẩn của thành phố đến nghiệm thu.Thiết kế 9 tầng.T hầm: Gara ô tô + để xe máy.T1,2,3,4,5,6,7,8 mỗi tầng đều thông sàn làm văn phòng hay kd nhà hàng đều vip.Pháp lý 4 sổ chính chủ mặt tiền bát ngát.Giá: 295 tỷ (có thương lượng).- Liên hệ: Đức Thắng - Chuyên thổ cư hà Nội.                                                                                            |38 m        |9 tầng     |               |Cơ bản  |21.0452077144523  |Sổ đỏ/ Sổ hồng|Đường Phạm Văn Đồng, Phường Mai Dịch, Cầu Giấy, Hà Nội         |105.78070496351   |1747785600 |295 tỷ |~1,23 tỷ/m²     |7 m       |           |batdongsan|Chính chủ bán tòa văn phòng mặt phố Phạm Văn Đồng - Cầu Giấy - DT 240m2 - 9T - MT 38m - giá 295 tỷ|https://batdongsan.com.vn/ban-nha-mat-pho-duong-pham-van-dong-phuong-mai-dich/chinh-chu-ban-toa-ng-cau-giay-dt-240m2-9t-mt-38m-gia-295-ty-pr43038011           |\n",
      "|100 m²  |3 phòng |4 phòng|1747840157     |house    |+ Địa chỉ: 147 Phan Đăng Lưu, phường Hoà Cường Nam, quận Hải Châu, TP Đà Nẵng, gần trường Đại Học Ngoại Ngữ, trường Đại Học Kiến Trúc, gần công viên Châu Á.+ Nhà 3 tầng DT: 5x20m 100m², mặt tiền đường 15m, rất phù hợp kinh doanh+ Giá bán: 16,4 tỷLiên hệ chính chủ0932 556 ***để được hỗ trợ                                                                                                                                                                                                                                                                                                                                                                                                            |            |3 tầng     |               |        |16.035962204076874|              |147, Phố Phan Đăng Lưu, Phường Hòa Cường Nam, Hải Châu, Đà Nẵng|108.21543559667275|1747785600 |16,4 tỷ|~164 triệu/m²   |15 m      |           |batdongsan|Chính chủ cần bán nhà 3 tầng DT 100m2 đường Phan Đăng Lưu, phường Hoà Cường Nam, Hải Châu, Đà Nẵng|https://batdongsan.com.vn/ban-nha-mat-pho-pho-phan-dang-luu-phuong-hoa-cuong-nam/ban-3-tang-dt-5x20-100m2-so-147-duong-quan-hai-chau-pr42267357                |\n",
      "|25 m²   |        |       |1747840157     |house    |Nhỉnh 6 tỷ có nhà mặt phố kinh doanh , mặt tiền quyền lực, lô góc view hồ, ful nội thất.LH:0932 341 ***- Nhà đẹp xây chắc chắn, kinh doanh sầm uất, 5M ra hồ,+ Pháp lý đầy đủ, sổ đỏ.+ Nội thất cơ bản, sẵn sàng để sử dụng.+ Phong thủy tốt, mang lại tài lộc cho chủ nhân.+ Giá thỏa thuận, hợp lý cho vị trí đắc địa.Để biết thêm thông tin chi tiết và nhận tư vấn miễn phí,LH:0932 341 ***nhiệt tình tận tâm, xem nhà ngay                                                                                                                                                                                                                                                                              |5,1 m       |3 tầng     |               |Đầy đủ  |21.004469215945   |Sổ đỏ/ Sổ hồng|Phố Khương Thượng, Phường Khương Thượng, Đống Đa, Hà Nội      |105.824773481482  |1747785600 |6 tỷ   |~240 triệu/m²   |          |           |batdongsan|Nhỉnh 6 tỷ có nhà mặt phố kinh doanh , mặt tiền quyền lực, lô góc view hồ, ful nội thất.          |https://batdongsan.com.vn/ban-nha-mat-pho-pho-khuong-thuong-phuong-khuong-thuong/nhinh-6-ty-co-kinh-doanh-tien-quyen-luc-lo-goc-view-ho-ful-noi-that-pr43037768|\n",
      "+--------+--------+-------+---------------+---------+-------------------------------------------------------------------------------------------------------------------------------------------------------------------------------------------------------------------------------------------------------------------------------------------------------------------------------------------------------------------------------------------------------------------------------------------------------------------------------------------------------------------------------------------------------------------------------------------------------------------------------------------------------------------------------------------------------------+------------+-----------+---------------+--------+------------------+--------------+---------------------------------------------------------------+------------------+-----------+-------+----------------+----------+-----------+----------+--------------------------------------------------------------------------------------------------+---------------------------------------------------------------------------------------------------------------------------------------------------------------+\n",
      "only showing top 5 rows\n",
      "\n",
      "\n",
      "Số lượng giá trị NULL trong từng cột:\n",
      "+----+--------+-------+---------------+---------+-----------+------------+-----------+---------------+--------+--------+------------+--------+---------+-----------+-----+------------+----------+-----------+------+-----+---+\n",
      "|area|bathroom|bedroom|crawl_timestamp|data_type|description|facade_width|floor_count|house_direction|interior|latitude|legal_status|location|longitude|posted_date|price|price_per_m2|road_width|seller_info|source|title|url|\n",
      "+----+--------+-------+---------------+---------+-----------+------------+-----------+---------------+--------+--------+------------+--------+---------+-----------+-----+------------+----------+-----------+------+-----+---+\n",
      "|0   |0       |0      |0              |0        |0          |0           |0          |0              |0       |0       |0           |0       |0        |0          |0    |0           |0         |0          |0     |0    |0  |\n",
      "+----+--------+-------+---------------+---------+-----------+------------+-----------+---------------+--------+--------+------------+--------+---------+-----------+-----+------------+----------+-----------+------+-----+---+\n",
      "\n"
     ]
    }
   ],
   "source": [
    "# Điều chỉnh đường dẫn file dữ liệu theo môi trường của bạn\n",
    "# Có thể sử dụng file CSV trong thư mục tmp\n",
    "json_path = \"hdfs://namenode:9000/data/realestate/raw/batdongsan/house/2025/05/*\"\n",
    "\n",
    "try:\n",
    "    # Đọc dữ liệu JSON từ HDFS\n",
    "    df = spark.read.option(\"multiline\", \"false\").json(json_path)\n",
    "    print(f\"Đã đọc dữ liệu JSON từ: {json_path}\")\n",
    "    log_dataframe_info(df, \"raw_json_data\")\n",
    "\n",
    "    # Chuyển đổi DataFrame thành bronze_df để duy trì tính nhất quán với các cell tiếp theo\n",
    "    bronze_df = df\n",
    "\n",
    "    # Kiểm tra các trường cần thiết\n",
    "    required_fields = [\"area\", \"price\", \"location\", \"bedroom\", \"bathroom\"]\n",
    "    for field in required_fields:\n",
    "        if field not in bronze_df.columns:\n",
    "            print(f\"Cảnh báo: Không tìm thấy trường {field} trong dữ liệu JSON\")\n",
    "\n",
    "except Exception as e:\n",
    "    print(f\"Lỗi khi đọc dữ liệu JSON từ HDFS: {str(e)}\")\n",
    "    # Tạo DataFrame trống nếu có lỗi\n",
    "    from pyspark.sql.types import StructType, StructField, StringType\n",
    "    schema = StructType([\n",
    "        StructField(\"url\", StringType(), True),\n",
    "        StructField(\"title\", StringType(), True),\n",
    "        StructField(\"price\", StringType(), True),\n",
    "        StructField(\"price_per_m2\", StringType(), True),\n",
    "        StructField(\"area\", StringType(), True),\n",
    "        StructField(\"bedroom\", StringType(), True),\n",
    "        StructField(\"bathroom\", StringType(), True),\n",
    "        StructField(\"floor_count\", StringType(), True),\n",
    "        StructField(\"length\", StringType(), True),\n",
    "        StructField(\"width\", StringType(), True),\n",
    "        StructField(\"living_size\", StringType(), True),\n",
    "        StructField(\"house_direction\", StringType(), True),\n",
    "        StructField(\"legal_status\", StringType(), True),\n",
    "        StructField(\"interior\", StringType(), True),\n",
    "        StructField(\"house_type\", StringType(), True),\n",
    "        StructField(\"location\", StringType(), True),\n",
    "        StructField(\"description\", StringType(), True),\n",
    "        StructField(\"posted_date\", StringType(), True),\n",
    "        StructField(\"crawl_timestamp\", StringType(), True),\n",
    "        StructField(\"latitude\", StringType(), True),\n",
    "        StructField(\"longitude\", StringType(), True),\n",
    "        StructField(\"seller_info\", StringType(), True)\n",
    "    ])\n",
    "    bronze_df = spark.createDataFrame([], schema)\n"
   ]
  },
  {
   "cell_type": "code",
   "execution_count": null,
   "id": "93199501-86a7-4741-b450-ecce1a9de04f",
   "metadata": {},
   "outputs": [],
   "source": []
  }
 ],
 "metadata": {
  "kernelspec": {
   "display_name": "Python 3 (ipykernel)",
   "language": "python",
   "name": "python3"
  },
  "language_info": {
   "codemirror_mode": {
    "name": "ipython",
    "version": 3
   },
   "file_extension": ".py",
   "mimetype": "text/x-python",
   "name": "python",
   "nbconvert_exporter": "python",
   "pygments_lexer": "ipython3",
   "version": "3.11.6"
  }
 },
 "nbformat": 4,
 "nbformat_minor": 5
}
