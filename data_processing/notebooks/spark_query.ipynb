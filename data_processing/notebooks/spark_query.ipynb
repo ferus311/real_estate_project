{
 "cells": [
  {
   "cell_type": "code",
   "execution_count": 1,
   "id": "62493218-e5c7-4d49-ab83-b782e519827c",
   "metadata": {},
   "outputs": [
    {
     "name": "stderr",
     "output_type": "stream",
     "text": [
      "Setting default log level to \"WARN\".\n",
      "To adjust logging level use sc.setLogLevel(newLevel). For SparkR, use setLogLevel(newLevel).\n",
      "25/05/23 15:56:19 WARN NativeCodeLoader: Unable to load native-hadoop library for your platform... using builtin-java classes where applicable\n",
      "[Stage 0:>                                                        (0 + 10) / 10]\r"
     ]
    },
    {
     "name": "stdout",
     "output_type": "stream",
     "text": [
      "root\n",
      " |-- area: string (nullable = true)\n",
      " |-- bathroom: string (nullable = true)\n",
      " |-- bedroom: string (nullable = true)\n",
      " |-- crawl_timestamp: string (nullable = true)\n",
      " |-- data_type: string (nullable = true)\n",
      " |-- description: string (nullable = true)\n",
      " |-- floor_count: string (nullable = true)\n",
      " |-- house_direction: string (nullable = true)\n",
      " |-- house_type: string (nullable = true)\n",
      " |-- interior: string (nullable = true)\n",
      " |-- latitude: string (nullable = true)\n",
      " |-- legal_status: string (nullable = true)\n",
      " |-- length: string (nullable = true)\n",
      " |-- living_size: string (nullable = true)\n",
      " |-- location: string (nullable = true)\n",
      " |-- longitude: string (nullable = true)\n",
      " |-- posted_date: string (nullable = true)\n",
      " |-- price: string (nullable = true)\n",
      " |-- price_per_m2: string (nullable = true)\n",
      " |-- seller_info: string (nullable = true)\n",
      " |-- source: string (nullable = true)\n",
      " |-- title: string (nullable = true)\n",
      " |-- url: string (nullable = true)\n",
      " |-- width: string (nullable = true)\n",
      "\n"
     ]
    },
    {
     "name": "stderr",
     "output_type": "stream",
     "text": [
      "25/05/23 16:07:49 ERROR StandaloneSchedulerBackend: Application has been killed. Reason: Master removed our application: KILLED\n",
      "25/05/23 16:07:49 ERROR Inbox: Ignoring error\n",
      "org.apache.spark.SparkException: Exiting due to error from cluster scheduler: Master removed our application: KILLED\n",
      "\tat org.apache.spark.errors.SparkCoreErrors$.clusterSchedulerError(SparkCoreErrors.scala:291)\n",
      "\tat org.apache.spark.scheduler.TaskSchedulerImpl.error(TaskSchedulerImpl.scala:978)\n",
      "\tat org.apache.spark.scheduler.cluster.StandaloneSchedulerBackend.dead(StandaloneSchedulerBackend.scala:165)\n",
      "\tat org.apache.spark.deploy.client.StandaloneAppClient$ClientEndpoint.markDead(StandaloneAppClient.scala:263)\n",
      "\tat org.apache.spark.deploy.client.StandaloneAppClient$ClientEndpoint$$anonfun$receive$1.applyOrElse(StandaloneAppClient.scala:170)\n",
      "\tat org.apache.spark.rpc.netty.Inbox.$anonfun$process$1(Inbox.scala:115)\n",
      "\tat org.apache.spark.rpc.netty.Inbox.safelyCall(Inbox.scala:213)\n",
      "\tat org.apache.spark.rpc.netty.Inbox.process(Inbox.scala:100)\n",
      "\tat org.apache.spark.rpc.netty.MessageLoop.org$apache$spark$rpc$netty$MessageLoop$$receiveLoop(MessageLoop.scala:75)\n",
      "\tat org.apache.spark.rpc.netty.MessageLoop$$anon$1.run(MessageLoop.scala:41)\n",
      "\tat java.base/java.util.concurrent.ThreadPoolExecutor.runWorker(ThreadPoolExecutor.java:1128)\n",
      "\tat java.base/java.util.concurrent.ThreadPoolExecutor$Worker.run(ThreadPoolExecutor.java:628)\n",
      "\tat java.base/java.lang.Thread.run(Thread.java:829)\n"
     ]
    }
   ],
   "source": [
    "from pyspark.sql import SparkSession\n",
    "\n",
    "# Tạo SparkSession\n",
    "spark = SparkSession.builder \\\n",
    "    .appName(\"RealEstateJSONQuery\") \\\n",
    "    .master(\"spark://spark-master:7077\") \\\n",
    "    .config(\"spark.hadoop.fs.defaultFS\", \"hdfs://namenode:9000\") \\\n",
    "    .getOrCreate()\n",
    "\n",
    "# Đường dẫn trên HDFS\n",
    "json_path = \"hdfs://namenode:9000/data/realestate/raw/chotot/house/2025/05/22\"\n",
    "\n",
    "# Đọc dữ liệu JSON từ HDFS\n",
    "df = spark.read.option(\"multiline\", \"false\").json(json_path)\n",
    "\n",
    "# Hiển thị schema\n",
    "df.printSchema()\n",
    "\n",
    "# Xem trước dữ liệu\n",
    "# df.show(5, truncate=False)\n",
    "\n",
    "# Ví dụ: Truy vấn nhà giá > 3 tỷ\n",
    "# df.filter(df.price > 3_000_000_000).select(\"title\", \"price\", \"location\").show()\n"
   ]
  },
  {
   "cell_type": "code",
   "execution_count": 3,
   "id": "6601c69d-fee6-4668-b867-38c116ad72c7",
   "metadata": {},
   "outputs": [
    {
     "name": "stdout",
     "output_type": "stream",
     "text": [
      "root\n",
      " |-- area: string (nullable = true)\n",
      " |-- bathroom: string (nullable = true)\n",
      " |-- bedroom: string (nullable = true)\n",
      " |-- crawl_timestamp: string (nullable = true)\n",
      " |-- data_type: string (nullable = true)\n",
      " |-- description: string (nullable = true)\n",
      " |-- facade_width: string (nullable = true)\n",
      " |-- floor_count: string (nullable = true)\n",
      " |-- house_direction: string (nullable = true)\n",
      " |-- interior: string (nullable = true)\n",
      " |-- latitude: string (nullable = true)\n",
      " |-- legal_status: string (nullable = true)\n",
      " |-- location: string (nullable = true)\n",
      " |-- longitude: string (nullable = true)\n",
      " |-- posted_date: string (nullable = true)\n",
      " |-- price: string (nullable = true)\n",
      " |-- price_per_m2: string (nullable = true)\n",
      " |-- road_width: string (nullable = true)\n",
      " |-- seller_info: string (nullable = true)\n",
      " |-- source: string (nullable = true)\n",
      " |-- title: string (nullable = true)\n",
      " |-- url: string (nullable = true)\n",
      "\n"
     ]
    },
    {
     "name": "stderr",
     "output_type": "stream",
     "text": [
      "25/05/23 13:02:31 WARN StandaloneAppClient$ClientEndpoint: Connection to 4649cfa041be:7077 failed; waiting for master to reconnect...\n",
      "25/05/23 13:02:31 WARN StandaloneSchedulerBackend: Disconnected from Spark cluster! Waiting for reconnection...\n",
      "25/05/23 13:02:46 ERROR TaskSchedulerImpl: Lost executor 0 on 172.23.0.6: Remote RPC client disassociated. Likely due to containers exceeding thresholds, or network issues. Check driver logs for WARN messages.\n"
     ]
    }
   ],
   "source": [
    "json_path = \"hdfs://namenode:9000/data/realestate/raw/batdongsan/house/2025/05\"\n",
    "\n",
    "# Đọc dữ liệu JSON từ HDFS\n",
    "df = spark.read.option(\"multiline\", \"false\").json(json_path)\n",
    "\n",
    "# Hiển thị schema\n",
    "df.printSchema()"
   ]
  },
  {
   "cell_type": "code",
   "execution_count": 11,
   "id": "89bc4005-05c7-4900-9647-a9d9a29aced1",
   "metadata": {},
   "outputs": [
    {
     "name": "stdout",
     "output_type": "stream",
     "text": [
      "Số lượng object JSON: 24500\n"
     ]
    }
   ],
   "source": [
    "object_count = df.count()\n",
    "\n",
    "print(f\"Số lượng object JSON: {object_count}\")"
   ]
  },
  {
   "cell_type": "code",
   "execution_count": 12,
   "id": "b580148d-6927-4a42-876c-020c91376957",
   "metadata": {},
   "outputs": [
    {
     "name": "stdout",
     "output_type": "stream",
     "text": [
      "Row(area='80', bathroom='1', bedroom='1', crawl_timestamp='1747838376', data_type='house', description='Nhà mặt tiền đường kinh doanh sầm uất, khu vực dân cư đông đúc, sang trọng, an ninh, thuận tiện kinh doanh mua bán nhiều nghề hoặc cho thuê, xung quanh còn có đầy đủ các tiện ích như TTTM Aeon Mall, bệnh viện quốc tế CIH, ngân hàng, chợ, trường học các cấp, rất thuận tiện cho các sinh hoạt hằng ngày. - Vị trí: MT đường Số 2 CX Rada, P.13, Q.6 - Diện tích: 4 x 20m. - Kết cấu: Cấp 4 - Hướng: Tây - Nam - Giá: 8.8 tỷ.', floor_count='', house_direction='8', house_type=None, interior='4', latitude='10.751096', legal_status='1', length=None, living_size=None, location='Đường số 2, Phường 13, Quận 6, Tp Hồ Chí Minh', longitude='106.62455', posted_date='1747831703', price='8,8 tỷ', price_per_m2='110', seller_info=\"{'name': 'Minh Thanh', 'account_id': '2326347'}\", source='chotot', title='Nhà MT đường số 2 Cư xá Rada Q6 dt 80m2 giá 8.8 tỷ', url='https://nha.chotot.com/121332310.htm', width=None)\n"
     ]
    }
   ],
   "source": [
    "# Lấy dòng đầu tiên (dạng Row object)\n",
    "first_row = df.first()\n",
    "\n",
    "# In toàn bộ thông tin của dòng đầu tiên\n",
    "print(first_row)"
   ]
  },
  {
   "cell_type": "code",
   "execution_count": 13,
   "id": "c45389f0-47dd-41da-9ac6-9208592adbea",
   "metadata": {},
   "outputs": [
    {
     "name": "stderr",
     "output_type": "stream",
     "text": [
      "[Stage 20:>                                                       (0 + 10) / 10]\r"
     ]
    },
    {
     "name": "stdout",
     "output_type": "stream",
     "text": [
      "Tổng số dòng: 24500\n",
      "Số dòng không trùng: 24500\n",
      "Số dòng trùng lặp: 0\n"
     ]
    },
    {
     "name": "stderr",
     "output_type": "stream",
     "text": [
      "                                                                                \r"
     ]
    }
   ],
   "source": [
    "# Đếm tổng số dòng\n",
    "total_count = df.count()\n",
    "\n",
    "# Đếm số dòng sau khi loại bỏ trùng\n",
    "distinct_count = df.distinct().count()\n",
    "\n",
    "print(f\"Tổng số dòng: {total_count}\")\n",
    "print(f\"Số dòng không trùng: {distinct_count}\")\n",
    "print(f\"Số dòng trùng lặp: {total_count - distinct_count}\")"
   ]
  },
  {
   "cell_type": "code",
   "execution_count": 14,
   "id": "13fc9216-db6b-4582-96dd-84ea4d8df1fd",
   "metadata": {},
   "outputs": [],
   "source": [
    "spark.stop()\n"
   ]
  },
  {
   "cell_type": "code",
   "execution_count": null,
   "id": "7971b85e-5a76-4600-862d-5c710ce1fab6",
   "metadata": {},
   "outputs": [],
   "source": []
  }
 ],
 "metadata": {
  "kernelspec": {
   "display_name": "Python 3 (ipykernel)",
   "language": "python",
   "name": "python3"
  },
  "language_info": {
   "codemirror_mode": {
    "name": "ipython",
    "version": 3
   },
   "file_extension": ".py",
   "mimetype": "text/x-python",
   "name": "python",
   "nbconvert_exporter": "python",
   "pygments_lexer": "ipython3",
   "version": "3.11.6"
  }
 },
 "nbformat": 4,
 "nbformat_minor": 5
}
